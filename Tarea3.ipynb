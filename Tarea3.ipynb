{
 "cells": [
  {
   "cell_type": "code",
   "execution_count": 48,
   "id": "a9ab01ae",
   "metadata": {},
   "outputs": [],
   "source": [
    "import pandas as pd\n",
    "import statistics as st\n",
    "import numpy as np"
   ]
  },
  {
   "cell_type": "code",
   "execution_count": 49,
   "id": "0b07fd97",
   "metadata": {},
   "outputs": [],
   "source": [
    "df=pd.read_excel(\"BackOrder Oct-Dic 2024.xlsx\")"
   ]
  },
  {
   "cell_type": "code",
   "execution_count": 50,
   "id": "2e887ec0",
   "metadata": {},
   "outputs": [],
   "source": [
    "df=df[df['Ancho']<334] #El ancho maximo de deberia de ser 334"
   ]
  },
  {
   "cell_type": "code",
   "execution_count": 51,
   "id": "b05ec80c",
   "metadata": {},
   "outputs": [
    {
     "data": {
      "text/plain": [
       "array(['PULG', 'CMS'], dtype=object)"
      ]
     },
     "execution_count": 51,
     "metadata": {},
     "output_type": "execute_result"
    }
   ],
   "source": [
    "df['UD_Ancho'].unique()"
   ]
  },
  {
   "cell_type": "code",
   "execution_count": 52,
   "id": "0ada8475",
   "metadata": {},
   "outputs": [],
   "source": [
    "Factor=pd.DataFrame({'Unidad':['PULG', 'CMS'],'Conv':[2.54,1]})\n"
   ]
  },
  {
   "cell_type": "code",
   "execution_count": 53,
   "id": "0cb2e7ff",
   "metadata": {},
   "outputs": [
    {
     "data": {
      "text/html": [
       "<div>\n",
       "<style scoped>\n",
       "    .dataframe tbody tr th:only-of-type {\n",
       "        vertical-align: middle;\n",
       "    }\n",
       "\n",
       "    .dataframe tbody tr th {\n",
       "        vertical-align: top;\n",
       "    }\n",
       "\n",
       "    .dataframe thead th {\n",
       "        text-align: right;\n",
       "    }\n",
       "</style>\n",
       "<table border=\"1\" class=\"dataframe\">\n",
       "  <thead>\n",
       "    <tr style=\"text-align: right;\">\n",
       "      <th></th>\n",
       "      <th>Unidad</th>\n",
       "      <th>Conv</th>\n",
       "    </tr>\n",
       "  </thead>\n",
       "  <tbody>\n",
       "    <tr>\n",
       "      <th>0</th>\n",
       "      <td>PULG</td>\n",
       "      <td>2.54</td>\n",
       "    </tr>\n",
       "    <tr>\n",
       "      <th>1</th>\n",
       "      <td>CMS</td>\n",
       "      <td>1.00</td>\n",
       "    </tr>\n",
       "  </tbody>\n",
       "</table>\n",
       "</div>"
      ],
      "text/plain": [
       "  Unidad  Conv\n",
       "0   PULG  2.54\n",
       "1    CMS  1.00"
      ]
     },
     "execution_count": 53,
     "metadata": {},
     "output_type": "execute_result"
    }
   ],
   "source": [
    "Factor"
   ]
  },
  {
   "cell_type": "code",
   "execution_count": 54,
   "id": "32d0d010",
   "metadata": {},
   "outputs": [],
   "source": [
    "df=pd.merge(df,Factor,left_on=['UD_Ancho'],right_on=['Unidad'])"
   ]
  },
  {
   "cell_type": "code",
   "execution_count": 55,
   "id": "23c61998",
   "metadata": {},
   "outputs": [],
   "source": [
    "df['Ancho']=df['Ancho']*df['Conv']"
   ]
  },
  {
   "cell_type": "markdown",
   "id": "142604e6",
   "metadata": {},
   "source": [
    "## Medidas de Tendencia Central"
   ]
  },
  {
   "cell_type": "markdown",
   "id": "98449f2b",
   "metadata": {},
   "source": [
    "### Media"
   ]
  },
  {
   "cell_type": "code",
   "execution_count": 56,
   "id": "4b34a3cc",
   "metadata": {},
   "outputs": [
    {
     "data": {
      "text/plain": [
       "120.56910717422038"
      ]
     },
     "execution_count": 56,
     "metadata": {},
     "output_type": "execute_result"
    }
   ],
   "source": [
    "st.mean(df['Ancho'])"
   ]
  },
  {
   "cell_type": "code",
   "execution_count": 57,
   "id": "c43e0c3e",
   "metadata": {},
   "outputs": [
    {
     "name": "stdout",
     "output_type": "stream",
     "text": [
      "Media de la Maquina 1:  144.47891738351254\n"
     ]
    }
   ],
   "source": [
    "print('Media de la Maquina 1: ',st.mean(df[df['Maquina']=='M1']['Ancho']))"
   ]
  },
  {
   "cell_type": "code",
   "execution_count": 58,
   "id": "c34766c0",
   "metadata": {},
   "outputs": [
    {
     "name": "stdout",
     "output_type": "stream",
     "text": [
      "Media de la Maquina 2:  153.3542733482643\n"
     ]
    }
   ],
   "source": [
    "print('Media de la Maquina 2: ',st.mean(df[df['Maquina']=='M2']['Ancho']))"
   ]
  },
  {
   "cell_type": "code",
   "execution_count": 59,
   "id": "f80151c7",
   "metadata": {},
   "outputs": [
    {
     "name": "stdout",
     "output_type": "stream",
     "text": [
      "Media de la Maquina 3:  89.67201591975034\n"
     ]
    }
   ],
   "source": [
    "print('Media de la Maquina 3: ',st.mean(df[df['Maquina']=='M3']['Ancho']))"
   ]
  },
  {
   "cell_type": "markdown",
   "id": "69036766",
   "metadata": {},
   "source": [
    "### Media Ponderada"
   ]
  },
  {
   "cell_type": "code",
   "execution_count": 60,
   "id": "7019a951",
   "metadata": {},
   "outputs": [
    {
     "data": {
      "text/plain": [
       "123.38196508902745"
      ]
     },
     "execution_count": 60,
     "metadata": {},
     "output_type": "execute_result"
    }
   ],
   "source": [
    "np.average(df['Ancho'],weights=df['TON Solicitadas'])"
   ]
  },
  {
   "cell_type": "code",
   "execution_count": 61,
   "id": "ea9c3709",
   "metadata": {},
   "outputs": [],
   "source": [
    "M1=df[df['Maquina']=='M1']\n",
    "M2=df[df['Maquina']=='M2']\n",
    "M3=df[df['Maquina']=='M3']"
   ]
  },
  {
   "cell_type": "code",
   "execution_count": 62,
   "id": "ea7fea73",
   "metadata": {},
   "outputs": [
    {
     "name": "stdout",
     "output_type": "stream",
     "text": [
      "Media ponderada de los anchos de la Maquina 1:  111.54961364557009\n"
     ]
    }
   ],
   "source": [
    "print('Media ponderada de los anchos de la Maquina 1: ',np.average(M1['Ancho'],weights=M1['TON Solicitadas']))"
   ]
  },
  {
   "cell_type": "code",
   "execution_count": 63,
   "id": "819eaf3a",
   "metadata": {},
   "outputs": [
    {
     "name": "stdout",
     "output_type": "stream",
     "text": [
      "Media ponderada de los anchos de la Maquina 2:  172.68409339207952\n"
     ]
    }
   ],
   "source": [
    "print('Media ponderada de los anchos de la Maquina 2: ',np.average(M2['Ancho'],weights=M2['TON Solicitadas']))"
   ]
  },
  {
   "cell_type": "code",
   "execution_count": 64,
   "id": "93dfb0e0",
   "metadata": {},
   "outputs": [
    {
     "name": "stdout",
     "output_type": "stream",
     "text": [
      "Media ponderada de los anchos de la Maquina 3:  123.43920683712194\n"
     ]
    }
   ],
   "source": [
    "print('Media ponderada de los anchos de la Maquina 3: ',np.average(M3['Ancho'],weights=M3['TON Solicitadas']))"
   ]
  },
  {
   "cell_type": "markdown",
   "id": "5bf3e3ce",
   "metadata": {},
   "source": [
    "### Moda"
   ]
  },
  {
   "cell_type": "code",
   "execution_count": 65,
   "id": "92933fcf",
   "metadata": {},
   "outputs": [
    {
     "data": {
      "text/plain": [
       "90.0"
      ]
     },
     "execution_count": 65,
     "metadata": {},
     "output_type": "execute_result"
    }
   ],
   "source": [
    "st.mode(df['Ancho'])"
   ]
  },
  {
   "cell_type": "code",
   "execution_count": 66,
   "id": "de73fc91",
   "metadata": {},
   "outputs": [
    {
     "name": "stdout",
     "output_type": "stream",
     "text": [
      "Moda de la Maquina 1:  245.0\n"
     ]
    }
   ],
   "source": [
    "print('Moda de la Maquina 1: ', st.mode(M1['Ancho']))"
   ]
  },
  {
   "cell_type": "code",
   "execution_count": 67,
   "id": "9db08320",
   "metadata": {},
   "outputs": [
    {
     "name": "stdout",
     "output_type": "stream",
     "text": [
      "Moda de la Maquina 1:  198.0\n"
     ]
    }
   ],
   "source": [
    "print('Moda de la Maquina 1: ', st.mode(M2['Ancho']))"
   ]
  },
  {
   "cell_type": "code",
   "execution_count": 68,
   "id": "5ca9e514",
   "metadata": {},
   "outputs": [
    {
     "name": "stdout",
     "output_type": "stream",
     "text": [
      "Moda de la Maquina 3:  90.0\n"
     ]
    }
   ],
   "source": [
    "print('Moda de la Maquina 3: ', st.mode(M3['Ancho']))"
   ]
  },
  {
   "cell_type": "markdown",
   "id": "baf83c77",
   "metadata": {},
   "source": [
    "### Mediana"
   ]
  },
  {
   "cell_type": "code",
   "execution_count": 69,
   "id": "5d7c34b3",
   "metadata": {},
   "outputs": [
    {
     "data": {
      "text/plain": [
       "102.1207"
      ]
     },
     "execution_count": 69,
     "metadata": {},
     "output_type": "execute_result"
    }
   ],
   "source": [
    "st.median(df['Ancho'])"
   ]
  },
  {
   "cell_type": "code",
   "execution_count": 70,
   "id": "0d766a9d",
   "metadata": {},
   "outputs": [
    {
     "name": "stdout",
     "output_type": "stream",
     "text": [
      "Mediana de la Maquina 1:  121.92\n"
     ]
    }
   ],
   "source": [
    "print('Mediana de la Maquina 1: ', st.median(M1['Ancho']))"
   ]
  },
  {
   "cell_type": "code",
   "execution_count": 71,
   "id": "c5c3a417",
   "metadata": {},
   "outputs": [
    {
     "name": "stdout",
     "output_type": "stream",
     "text": [
      "Mediana de la Maquina 2:  180.0\n"
     ]
    }
   ],
   "source": [
    "print('Mediana de la Maquina 2: ', st.median(M2['Ancho']))"
   ]
  },
  {
   "cell_type": "code",
   "execution_count": 72,
   "id": "cf7086ce",
   "metadata": {},
   "outputs": [
    {
     "name": "stdout",
     "output_type": "stream",
     "text": [
      "Mediana de la Maquina 3:  90.0\n"
     ]
    }
   ],
   "source": [
    "print('Mediana de la Maquina 3: ', st.median(M3['Ancho']))"
   ]
  },
  {
   "cell_type": "markdown",
   "id": "5643407a",
   "metadata": {},
   "source": [
    "## Medidas de Dispersion"
   ]
  },
  {
   "cell_type": "markdown",
   "id": "ded18d4b",
   "metadata": {},
   "source": [
    "## Varianza"
   ]
  },
  {
   "cell_type": "code",
   "execution_count": 73,
   "id": "6d6fd89b",
   "metadata": {},
   "outputs": [
    {
     "data": {
      "text/plain": [
       "3308.9032005555373"
      ]
     },
     "execution_count": 73,
     "metadata": {},
     "output_type": "execute_result"
    }
   ],
   "source": [
    "st.variance(df['Ancho'])"
   ]
  },
  {
   "cell_type": "code",
   "execution_count": 74,
   "id": "cf12feba",
   "metadata": {},
   "outputs": [
    {
     "name": "stdout",
     "output_type": "stream",
     "text": [
      "Varianza de la Maquina 1:  4634.241980261198\n"
     ]
    }
   ],
   "source": [
    "print('Varianza de la Maquina 1: ', st.variance(M1['Ancho']))"
   ]
  },
  {
   "cell_type": "code",
   "execution_count": 75,
   "id": "c2891c3c",
   "metadata": {},
   "outputs": [
    {
     "name": "stdout",
     "output_type": "stream",
     "text": [
      "Varianza de la Maquina 2:  2319.9043551527193\n"
     ]
    }
   ],
   "source": [
    "print('Varianza de la Maquina 2: ', st.variance(M2['Ancho']))"
   ]
  },
  {
   "cell_type": "code",
   "execution_count": 76,
   "id": "2979bd45",
   "metadata": {},
   "outputs": [
    {
     "name": "stdout",
     "output_type": "stream",
     "text": [
      "Varianza de la Maquina 3:  906.329751013404\n"
     ]
    }
   ],
   "source": [
    "print('Varianza de la Maquina 3: ', st.variance(M3['Ancho']))"
   ]
  },
  {
   "cell_type": "markdown",
   "id": "27a2aff6",
   "metadata": {},
   "source": [
    "## Desviacion Estandar"
   ]
  },
  {
   "cell_type": "code",
   "execution_count": 77,
   "id": "e9dfa1e2",
   "metadata": {},
   "outputs": [
    {
     "data": {
      "text/plain": [
       "57.52306668246693"
      ]
     },
     "execution_count": 77,
     "metadata": {},
     "output_type": "execute_result"
    }
   ],
   "source": [
    "np.sqrt(st.variance(df['Ancho']))"
   ]
  },
  {
   "cell_type": "code",
   "execution_count": 78,
   "id": "71ca5ea3",
   "metadata": {},
   "outputs": [
    {
     "name": "stdout",
     "output_type": "stream",
     "text": [
      "Desviacion Estandar de la Maquina 1:  68.07526702306204\n"
     ]
    }
   ],
   "source": [
    "print('Desviacion Estandar de la Maquina 1: ', np.sqrt(st.variance(M1['Ancho'])))"
   ]
  },
  {
   "cell_type": "code",
   "execution_count": 79,
   "id": "ca3bb4f4",
   "metadata": {},
   "outputs": [
    {
     "name": "stdout",
     "output_type": "stream",
     "text": [
      "Desviacion Estandar de la Maquina 2:  48.16538544590627\n"
     ]
    }
   ],
   "source": [
    "print('Desviacion Estandar de la Maquina 2: ', np.sqrt(st.variance(M2['Ancho'])))"
   ]
  },
  {
   "cell_type": "code",
   "execution_count": 80,
   "id": "81fea651",
   "metadata": {},
   "outputs": [
    {
     "name": "stdout",
     "output_type": "stream",
     "text": [
      "Desviacion Estandar de la Maquina 3:  30.10531101007601\n"
     ]
    }
   ],
   "source": [
    "print('Desviacion Estandar de la Maquina 3: ', np.sqrt(st.variance(M3['Ancho'])))"
   ]
  }
 ],
 "metadata": {
  "kernelspec": {
   "display_name": "Python 3",
   "language": "python",
   "name": "python3"
  },
  "language_info": {
   "codemirror_mode": {
    "name": "ipython",
    "version": 3
   },
   "file_extension": ".py",
   "mimetype": "text/x-python",
   "name": "python",
   "nbconvert_exporter": "python",
   "pygments_lexer": "ipython3",
   "version": "3.10.5"
  }
 },
 "nbformat": 4,
 "nbformat_minor": 5
}
